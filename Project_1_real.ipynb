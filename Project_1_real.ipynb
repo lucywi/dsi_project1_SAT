{
 "cells": [
  {
   "cell_type": "markdown",
   "metadata": {},
   "source": [
    "## Investigate the data, and answer the questions below.\n",
    "\n",
    "### 1. What does the data describe?\n",
    "#### The data describe the distribution of SAT Scores across states.\n",
    "### 2. Does the data look complete? Are there any obvious issues?\n",
    "#### The data appear complete"
   ]
  },
  {
   "cell_type": "markdown",
   "metadata": {},
   "source": [
    "### Open the sat_scores.csv file"
   ]
  },
  {
   "cell_type": "code",
   "execution_count": 5,
   "metadata": {
    "collapsed": false
   },
   "outputs": [
    {
     "name": "stdout",
     "output_type": "stream",
     "text": [
      "['State', 'Rate', 'Verbal', 'Math']\n",
      "['CT', '82', '509', '510']\n",
      "['NJ', '81', '499', '513']\n",
      "['MA', '79', '511', '515']\n",
      "['NY', '77', '495', '505']\n",
      "['NH', '72', '520', '516']\n",
      "['RI', '71', '501', '499']\n",
      "['PA', '71', '500', '499']\n",
      "['VT', '69', '511', '506']\n",
      "['ME', '69', '506', '500']\n",
      "['VA', '68', '510', '501']\n",
      "['DE', '67', '501', '499']\n",
      "['MD', '65', '508', '510']\n",
      "['NC', '65', '493', '499']\n",
      "['GA', '63', '491', '489']\n",
      "['IN', '60', '499', '501']\n",
      "['SC', '57', '486', '488']\n",
      "['DC', '56', '482', '474']\n",
      "['OR', '55', '526', '526']\n",
      "['FL', '54', '498', '499']\n",
      "['WA', '53', '527', '527']\n",
      "['TX', '53', '493', '499']\n",
      "['HI', '52', '485', '515']\n",
      "['AK', '51', '514', '510']\n",
      "['CA', '51', '498', '517']\n",
      "['AZ', '34', '523', '525']\n",
      "['NV', '33', '509', '515']\n",
      "['CO', '31', '539', '542']\n",
      "['OH', '26', '534', '439']\n",
      "['MT', '23', '539', '539']\n",
      "['WV', '18', '527', '512']\n",
      "['ID', '17', '543', '542']\n",
      "['TN', '13', '562', '553']\n",
      "['NM', '13', '551', '542']\n",
      "['IL', '12', '576', '589']\n",
      "['KY', '12', '550', '550']\n",
      "['WY', '11', '547', '545']\n",
      "['MI', '11', '561', '572']\n",
      "['MN', '9', '580', '589']\n",
      "['KS', '9', '577', '580']\n",
      "['AL', '9', '559', '554']\n",
      "['NB', '8', '562', '568']\n",
      "['OK', '8', '567', '561']\n",
      "['MO', '8', '577', '577']\n",
      "['LA', '7', '564', '562']\n",
      "['WI', '6', '584', '596']\n",
      "['AR', '6', '562', '550']\n",
      "['UT', '5', '575', '570']\n",
      "['IA', '5', '593', '603']\n",
      "['SD', '4', '577', '582']\n",
      "['ND', '4', '592', '599']\n",
      "['MS', '4', '566', '551']\n"
     ]
    }
   ],
   "source": [
    "import csv\n",
    "with open('sat_scores.csv', 'rU') as csvfile:\n",
    "    reader = csv.reader(csvfile)\n",
    "    for row in reader:\n",
    "        print row"
   ]
  },
  {
   "cell_type": "markdown",
   "metadata": {},
   "source": [
    "### Load data into a list of lists"
   ]
  },
  {
   "cell_type": "code",
   "execution_count": 6,
   "metadata": {
    "collapsed": false,
    "scrolled": true
   },
   "outputs": [],
   "source": [
    "list = []\n",
    "with open('sat_scores.csv', 'rU') as csvfile:\n",
    "    reader = csv.reader(csvfile)\n",
    "    for row in reader:\n",
    "        list.append(row)"
   ]
  },
  {
   "cell_type": "markdown",
   "metadata": {},
   "source": [
    "### Print list"
   ]
  },
  {
   "cell_type": "code",
   "execution_count": 7,
   "metadata": {
    "collapsed": false,
    "scrolled": true
   },
   "outputs": [
    {
     "name": "stdout",
     "output_type": "stream",
     "text": [
      "[['State', 'Rate', 'Verbal', 'Math'], ['CT', '82', '509', '510'], ['NJ', '81', '499', '513'], ['MA', '79', '511', '515'], ['NY', '77', '495', '505'], ['NH', '72', '520', '516'], ['RI', '71', '501', '499'], ['PA', '71', '500', '499'], ['VT', '69', '511', '506'], ['ME', '69', '506', '500'], ['VA', '68', '510', '501'], ['DE', '67', '501', '499'], ['MD', '65', '508', '510'], ['NC', '65', '493', '499'], ['GA', '63', '491', '489'], ['IN', '60', '499', '501'], ['SC', '57', '486', '488'], ['DC', '56', '482', '474'], ['OR', '55', '526', '526'], ['FL', '54', '498', '499'], ['WA', '53', '527', '527'], ['TX', '53', '493', '499'], ['HI', '52', '485', '515'], ['AK', '51', '514', '510'], ['CA', '51', '498', '517'], ['AZ', '34', '523', '525'], ['NV', '33', '509', '515'], ['CO', '31', '539', '542'], ['OH', '26', '534', '439'], ['MT', '23', '539', '539'], ['WV', '18', '527', '512'], ['ID', '17', '543', '542'], ['TN', '13', '562', '553'], ['NM', '13', '551', '542'], ['IL', '12', '576', '589'], ['KY', '12', '550', '550'], ['WY', '11', '547', '545'], ['MI', '11', '561', '572'], ['MN', '9', '580', '589'], ['KS', '9', '577', '580'], ['AL', '9', '559', '554'], ['NB', '8', '562', '568'], ['OK', '8', '567', '561'], ['MO', '8', '577', '577'], ['LA', '7', '564', '562'], ['WI', '6', '584', '596'], ['AR', '6', '562', '550'], ['UT', '5', '575', '570'], ['IA', '5', '593', '603'], ['SD', '4', '577', '582'], ['ND', '4', '592', '599'], ['MS', '4', '566', '551']]\n"
     ]
    }
   ],
   "source": [
    "print list"
   ]
  },
  {
   "cell_type": "markdown",
   "metadata": {},
   "source": [
    "### 6. Extract a list of the labels from the data, and remove them from the data."
   ]
  },
  {
   "cell_type": "code",
   "execution_count": 8,
   "metadata": {
    "collapsed": false
   },
   "outputs": [],
   "source": [
    "labels = list[0]\n",
    "del list[0]"
   ]
  },
  {
   "cell_type": "markdown",
   "metadata": {},
   "source": [
    "### 7. Create a list of State names extracted from the data."
   ]
  },
  {
   "cell_type": "code",
   "execution_count": 9,
   "metadata": {
    "collapsed": false
   },
   "outputs": [
    {
     "name": "stdout",
     "output_type": "stream",
     "text": [
      "['CT', 'NJ', 'MA', 'NY', 'NH', 'RI', 'PA', 'VT', 'ME', 'VA', 'DE', 'MD', 'NC', 'GA', 'IN', 'SC', 'DC', 'OR', 'FL', 'WA', 'TX', 'HI', 'AK', 'CA', 'AZ', 'NV', 'CO', 'OH', 'MT', 'WV', 'ID', 'TN', 'NM', 'IL', 'KY', 'WY', 'MI', 'MN', 'KS', 'AL', 'NB', 'OK', 'MO', 'LA', 'WI', 'AR', 'UT', 'IA', 'SD', 'ND', 'MS']\n"
     ]
    }
   ],
   "source": [
    "states = []\n",
    "for i in list:\n",
    "    states.append(i[0])\n",
    "print states"
   ]
  },
  {
   "cell_type": "markdown",
   "metadata": {},
   "source": [
    "### 8. Print the types of each column"
   ]
  },
  {
   "cell_type": "code",
   "execution_count": 10,
   "metadata": {
    "collapsed": false
   },
   "outputs": [
    {
     "name": "stdout",
     "output_type": "stream",
     "text": [
      "<type 'str'>\n",
      "<type 'str'>\n",
      "<type 'str'>\n",
      "<type 'str'>\n"
     ]
    }
   ],
   "source": [
    "for item in list:\n",
    "    for i in item:\n",
    "        print type(i)\n",
    "    break\n",
    "    "
   ]
  },
  {
   "cell_type": "markdown",
   "metadata": {},
   "source": [
    "### 9. Do any types need to be reassigned? If so, go ahead and do it."
   ]
  },
  {
   "cell_type": "code",
   "execution_count": 11,
   "metadata": {
    "collapsed": false
   },
   "outputs": [],
   "source": [
    "for item in list:\n",
    "    item[1] = float(item[1])\n",
    "    item[2] = int(item[2])\n",
    "    item[3] = int(item[3])"
   ]
  },
  {
   "cell_type": "markdown",
   "metadata": {},
   "source": [
    "### 10. Create a dictionary for each column mapping the State to its respective value for that column."
   ]
  },
  {
   "cell_type": "code",
   "execution_count": 12,
   "metadata": {
    "collapsed": false
   },
   "outputs": [],
   "source": [
    "rate_dict = {item[0]: item[1] for item in list}\n",
    "\n",
    "verbal_dict = {item[0]: item[2] for item in list}\n",
    "\n",
    "math_dict = {item[0]: item[3] for item in list}\n"
   ]
  },
  {
   "cell_type": "markdown",
   "metadata": {},
   "source": [
    "## Step 3: Describe the data"
   ]
  },
  {
   "cell_type": "markdown",
   "metadata": {},
   "source": [
    "### 12. Print the min and max of each column"
   ]
  },
  {
   "cell_type": "code",
   "execution_count": 13,
   "metadata": {
    "collapsed": false
   },
   "outputs": [
    {
     "name": "stdout",
     "output_type": "stream",
     "text": [
      "Lowest rate is: 4.0\n",
      "Lowest verbal score is: 482\n",
      "Lowest math score is: 439\n",
      "Highest rate is: 82.0\n",
      "Highest verbal score is: 593\n",
      "Highest math score is: 603\n"
     ]
    }
   ],
   "source": [
    "print \"Lowest rate is: %r\" % min(rate_dict.values())\n",
    "print \"Lowest verbal score is: %r\" % min(verbal_dict.values())\n",
    "print \"Lowest math score is: %r\" % min(math_dict.values())\n",
    "print \"Highest rate is: %r\" % max(rate_dict.values())\n",
    "print \"Highest verbal score is: %r\" % max(verbal_dict.values())\n",
    "print \"Highest math score is: %r\" % max(math_dict.values())"
   ]
  },
  {
   "cell_type": "markdown",
   "metadata": {},
   "source": [
    "### 13. Write a function using only list comprehensions, no loops, to compute Standard Deviation. Print the Standard Deviation of each numeric column.'''"
   ]
  },
  {
   "cell_type": "code",
   "execution_count": 15,
   "metadata": {
    "collapsed": false
   },
   "outputs": [
    {
     "name": "stdout",
     "output_type": "stream",
     "text": [
      "The standard deviation of rate is: 27.279\n",
      "The standard deviation of verbal is: 33.03\n",
      "The standard deviation of math is: 35.93\n"
     ]
    }
   ],
   "source": [
    "import math\n",
    "def stdev(dict_values):\n",
    "    mean = sum(dict_values)/len(dict_values)\n",
    "    squared_deviations = [(i - mean)**2 for i in dict_values]\n",
    "    avg_sq_dev = sum(squared_deviations)/len(squared_deviations)\n",
    "    return round((math.sqrt(avg_sq_dev)), 3)\n",
    "\n",
    "print \"The standard deviation of rate is: %r\" % stdev(rate_dict.values())\n",
    "print \"The standard deviation of verbal is: %r\" % stdev(verbal_dict.values())\n",
    "print \"The standard deviation of math is: %r\" % stdev(math_dict.values())\n",
    "\n"
   ]
  },
  {
   "cell_type": "markdown",
   "metadata": {},
   "source": [
    "## Step 4. Visualize the data\n",
    "### 14. Using MatPlotLib and PyPlot, plot the distribution of the Rate using histograms"
   ]
  },
  {
   "cell_type": "code",
   "execution_count": 16,
   "metadata": {
    "collapsed": false
   },
   "outputs": [
    {
     "data": {
      "text/plain": [
       "(array([ 16.,   6.,   2.,   3.,   0.,   0.,   9.,   4.,   7.,   4.]),\n",
       " array([  4. ,  11.8,  19.6,  27.4,  35.2,  43. ,  50.8,  58.6,  66.4,\n",
       "         74.2,  82. ]),\n",
       " <a list of 10 Patch objects>)"
      ]
     },
     "execution_count": 16,
     "metadata": {},
     "output_type": "execute_result"
    },
    {
     "data": {
      "image/png": "[encoded data removed]",
      "text/plain": [
       "<matplotlib.figure.Figure at 0x109d542d0>"
      ]
     },
     "metadata": {},
     "output_type": "display_data"
    }
   ],
   "source": [
    "from matplotlib import pyplot as plt\n",
    "import numpy as np\n",
    "%matplotlib inline\n",
    "\n",
    "plt.title(\"SAT Participation Rate Distribution in US\")\n",
    "plt.ylabel(\"Number of States\")\n",
    "plt.xlabel(\"Decile\")\n",
    "plt.hist(rate_dict.values())"
   ]
  },
  {
   "cell_type": "markdown",
   "metadata": {},
   "source": [
    "### 15. Plot the Math distribution"
   ]
  },
  {
   "cell_type": "code",
   "execution_count": 17,
   "metadata": {
    "collapsed": false
   },
   "outputs": [
    {
     "data": {
      "text/plain": [
       "(array([  1.,   0.,   2.,  10.,  12.,   3.,   9.,   5.,   4.,   5.]),\n",
       " array([ 439. ,  455.4,  471.8,  488.2,  504.6,  521. ,  537.4,  553.8,\n",
       "         570.2,  586.6,  603. ]),\n",
       " <a list of 10 Patch objects>)"
      ]
     },
     "execution_count": 17,
     "metadata": {},
     "output_type": "execute_result"
    },
    {
     "data": {
      "image/png": "[encoded data removed]",
      "text/plain": [
       "<matplotlib.figure.Figure at 0x103f28a50>"
      ]
     },
     "metadata": {},
     "output_type": "display_data"
    }
   ],
   "source": [
    "plt.title(\"Math Score Distribution in US\")\n",
    "plt.ylabel(\"Number of States\")\n",
    "plt.xlabel(\"Score, 0-800\")\n",
    "plt.hist(math_dict.values())"
   ]
  },
  {
   "cell_type": "markdown",
   "metadata": {},
   "source": [
    "### 16. Plot the Verbal distribution"
   ]
  },
  {
   "cell_type": "code",
   "execution_count": 18,
   "metadata": {
    "collapsed": false
   },
   "outputs": [
    {
     "data": {
      "text/plain": [
       "(array([ 6.,  8.,  8.,  3.,  3.,  4.,  3.,  7.,  6.,  3.]),\n",
       " array([ 482. ,  493.1,  504.2,  515.3,  526.4,  537.5,  548.6,  559.7,\n",
       "         570.8,  581.9,  593. ]),\n",
       " <a list of 10 Patch objects>)"
      ]
     },
     "execution_count": 18,
     "metadata": {},
     "output_type": "execute_result"
    },
    {
     "data": {
      "image/png": "[encoded data removed]",
      "text/plain": [
       "<matplotlib.figure.Figure at 0x10f216c10>"
      ]
     },
     "metadata": {},
     "output_type": "display_data"
    }
   ],
   "source": [
    "plt.title(\"Verbal Score Distribution in US\")\n",
    "plt.ylabel(\"Number of States\")\n",
    "plt.xlabel(\"Score, 0-800\")\n",
    "plt.hist(verbal_dict.values())"
   ]
  },
  {
   "cell_type": "markdown",
   "metadata": {},
   "source": [
    "### 17. What is the typical assumption for data distribution?\n",
    "#### The typical assumption is that the data are normally distributed around the mean."
   ]
  },
  {
   "cell_type": "markdown",
   "metadata": {},
   "source": [
    "### 18. Does that distribution hold true for our data?\n",
    "#### The normal dist holds true somewhat for the distribution of math scores. Not for verbal."
   ]
  },
  {
   "cell_type": "markdown",
   "metadata": {},
   "source": [
    "### 19. Plot some scatterplots. BONUS: Use a PyPlot figure to present multiple plots at once.\n",
    "#### Below is a scatter plot of participation rate vs verbal score"
   ]
  },
  {
   "cell_type": "code",
   "execution_count": 19,
   "metadata": {
    "collapsed": false
   },
   "outputs": [
    {
     "data": {
      "text/plain": [
       "<matplotlib.collections.PathCollection at 0x10f66de10>"
      ]
     },
     "execution_count": 19,
     "metadata": {},
     "output_type": "execute_result"
    },
    {
     "data": {
      "image/png": "[encoded data removed]",
      "text/plain": [
       "<matplotlib.figure.Figure at 0x10f22a490>"
      ]
     },
     "metadata": {},
     "output_type": "display_data"
    }
   ],
   "source": [
    "plt.title(\"SAT Participation Rate vs Verbal Score (avg, by state)\")\n",
    "plt.xlabel(\"Participation Rate\")\n",
    "plt.ylabel(\"Verbal Score\")\n",
    "plt.scatter(rate_dict.values(), verbal_dict.values())"
   ]
  },
  {
   "cell_type": "markdown",
   "metadata": {},
   "source": [
    "#### Scatter plot of participation rate vs math score"
   ]
  },
  {
   "cell_type": "code",
   "execution_count": 21,
   "metadata": {
    "collapsed": false
   },
   "outputs": [
    {
     "data": {
      "text/plain": [
       "<matplotlib.collections.PathCollection at 0x10f814e90>"
      ]
     },
     "execution_count": 21,
     "metadata": {},
     "output_type": "execute_result"
    },
    {
     "data": {
      "image/png": "[encoded data removed]",
      "text/plain": [
       "<matplotlib.figure.Figure at 0x10f22a450>"
      ]
     },
     "metadata": {},
     "output_type": "display_data"
    }
   ],
   "source": [
    "plt.title(\"SAT Participation Rate vs Math Score (avg, by state)\")\n",
    "plt.xlabel(\"Participation Rate\")\n",
    "plt.ylabel(\"Math Score\")\n",
    "plt.scatter(rate_dict.values(), math_dict.values())"
   ]
  },
  {
   "cell_type": "markdown",
   "metadata": {},
   "source": [
    "#### Scatter plot of math vs verbal score"
   ]
  },
  {
   "cell_type": "code",
   "execution_count": 31,
   "metadata": {
    "collapsed": false,
    "scrolled": true
   },
   "outputs": [
    {
     "data": {
      "text/plain": [
       "<matplotlib.collections.PathCollection at 0x1105d63d0>"
      ]
     },
     "execution_count": 31,
     "metadata": {},
     "output_type": "execute_result"
    },
    {
     "data": {
      "image/png": "[encoded data removed]",
      "text/plain": [
       "<matplotlib.figure.Figure at 0x110443090>"
      ]
     },
     "metadata": {},
     "output_type": "display_data"
    }
   ],
   "source": [
    "plt.title(\"Math Score vs Verbal Score (average, by state)\")\n",
    "plt.xlabel(\"Math Score\")\n",
    "plt.ylabel(\"Verbal Score\")\n",
    "plt.scatter(math_dict.values(), verbal_dict.values())"
   ]
  },
  {
   "cell_type": "markdown",
   "metadata": {},
   "source": [
    "### 20. Are there any interesting relationships to note?\n",
    "#### There is a linear relationship between math and verbal scores. It is positively correlated. \n",
    "#### Additionally, as the state's participation rate increases, the average math and verbal scores tend to be lower.\n"
   ]
  },
  {
   "cell_type": "markdown",
   "metadata": {},
   "source": [
    "### 21. Create box plots for each variable."
   ]
  },
  {
   "cell_type": "code",
   "execution_count": 23,
   "metadata": {
    "collapsed": false
   },
   "outputs": [
    {
     "data": {
      "text/plain": [
       "{'boxes': [<matplotlib.lines.Line2D at 0x10fce3050>],\n",
       " 'caps': [<matplotlib.lines.Line2D at 0x10fce3f50>,\n",
       "  <matplotlib.lines.Line2D at 0x10fcf05d0>],\n",
       " 'fliers': [<matplotlib.lines.Line2D at 0x10fcfd290>],\n",
       " 'means': [],\n",
       " 'medians': [<matplotlib.lines.Line2D at 0x10fcf0c10>],\n",
       " 'whiskers': [<matplotlib.lines.Line2D at 0x10fce3250>,\n",
       "  <matplotlib.lines.Line2D at 0x10fce3910>]}"
      ]
     },
     "execution_count": 23,
     "metadata": {},
     "output_type": "execute_result"
    },
    {
     "data": {
      "image/png": "[encoded data removed]",
      "text/plain": [
       "<matplotlib.figure.Figure at 0x10fbb2490>"
      ]
     },
     "metadata": {},
     "output_type": "display_data"
    }
   ],
   "source": [
    "plt.title(\"Spread of SAT Participation Rates (average, by state)\")\n",
    "plt.ylabel(\"Participation Rate\")\n",
    "plt.boxplot(rate_dict.values())"
   ]
  },
  {
   "cell_type": "code",
   "execution_count": 24,
   "metadata": {
    "collapsed": false
   },
   "outputs": [
    {
     "data": {
      "text/plain": [
       "{'boxes': [<matplotlib.lines.Line2D at 0x10fe43310>],\n",
       " 'caps': [<matplotlib.lines.Line2D at 0x10fe4f250>,\n",
       "  <matplotlib.lines.Line2D at 0x10fe4f890>],\n",
       " 'fliers': [<matplotlib.lines.Line2D at 0x10fe5a550>],\n",
       " 'means': [],\n",
       " 'medians': [<matplotlib.lines.Line2D at 0x10fe4fed0>],\n",
       " 'whiskers': [<matplotlib.lines.Line2D at 0x10fe43510>,\n",
       "  <matplotlib.lines.Line2D at 0x10fe43bd0>]}"
      ]
     },
     "execution_count": 24,
     "metadata": {},
     "output_type": "execute_result"
    },
    {
     "data": {
      "image/png": "[encoded data removed]",
      "text/plain": [
       "<matplotlib.figure.Figure at 0x10fbf2090>"
      ]
     },
     "metadata": {},
     "output_type": "display_data"
    }
   ],
   "source": [
    "plt.title(\"Spread of SAT Math Scores (average, by state)\")\n",
    "plt.ylabel(\"Math Score\")\n",
    "plt.boxplot(math_dict.values())"
   ]
  },
  {
   "cell_type": "code",
   "execution_count": 25,
   "metadata": {
    "collapsed": false
   },
   "outputs": [
    {
     "data": {
      "text/plain": [
       "{'boxes': [<matplotlib.lines.Line2D at 0x10ff9d7d0>],\n",
       " 'caps': [<matplotlib.lines.Line2D at 0x10fd57710>,\n",
       "  <matplotlib.lines.Line2D at 0x10fd57d50>],\n",
       " 'fliers': [<matplotlib.lines.Line2D at 0x10ffb6a10>],\n",
       " 'means': [],\n",
       " 'medians': [<matplotlib.lines.Line2D at 0x10ffb63d0>],\n",
       " 'whiskers': [<matplotlib.lines.Line2D at 0x10ff9d9d0>,\n",
       "  <matplotlib.lines.Line2D at 0x10fd570d0>]}"
      ]
     },
     "execution_count": 25,
     "metadata": {},
     "output_type": "execute_result"
    },
    {
     "data": {
      "image/png": "[encoded data removed]",
      "text/plain": [
       "<matplotlib.figure.Figure at 0x10fbe68d0>"
      ]
     },
     "metadata": {},
     "output_type": "display_data"
    }
   ],
   "source": [
    "plt.title(\"Spread of SAT Verbal Scores (average, by state)\")\n",
    "plt.ylabel(\"Verbal Score\")\n",
    "plt.boxplot(verbal_dict.values())"
   ]
  },
  {
   "cell_type": "markdown",
   "metadata": {},
   "source": [
    "### BONUS: Using Tableau, create a heat map for each variable using a map of the US."
   ]
  },
  {
   "cell_type": "code",
   "execution_count": null,
   "metadata": {
    "collapsed": true
   },
   "outputs": [],
   "source": []
  }
 ],
 "metadata": {
  "kernelspec": {
   "display_name": "Python 2",
   "language": "python",
   "name": "python2"
  },
  "language_info": {
   "codemirror_mode": {
    "name": "ipython",
    "version": 2
   },
   "file_extension": ".py",
   "mimetype": "text/x-python",
   "name": "python",
   "nbconvert_exporter": "python",
   "pygments_lexer": "ipython2",
   "version": "2.7.11"
  }
 },
 "nbformat": 4,
 "nbformat_minor": 0
}
